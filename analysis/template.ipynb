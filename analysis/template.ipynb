{
 "cells": [
  {
   "cell_type": "code",
   "execution_count": null,
   "metadata": {},
   "outputs": [],
   "source": [
    "import os\n",
    "import sys\n",
    "from pathlib import Path\n",
    "\n",
    "# 修改当前目录到上层目录，方便跨不同IDE中使用\n",
    "# pwd = str(Path(__file__).parents[1])\n",
    "# os.chdir(pwd)\n",
    "# sys.path.append(pwd)\n",
    "# ==============="
   ]
  },
  {
   "cell_type": "code",
   "execution_count": null,
   "metadata": {},
   "outputs": [],
   "source": [
    "test1 = os.environ.get('TEST1', 'abc123')\n",
    "test2 = os.environ.get('TEST2', 'abc123')\n",
    "print('环境变量传递示例：', test1, test2)"
   ]
  },
  {
   "cell_type": "code",
   "execution_count": null,
   "metadata": {},
   "outputs": [],
   "source": [
    "# 从main中导入，可以大大减少代码\n",
    "from gp.main import *\n",
    "\n",
    "from analysis.reports import create_2x2_sheet\n",
    "from analysis.reports import create_2x3_sheet\n",
    "\n",
    "# TODO 可替换成任意一代的种群文件\n",
    "with open(LOG_DIR / f'hall_of_fame.pkl', 'rb') as f:\n",
    "    pop = pickle.load(f)\n",
    "\n",
    "df_input = pl.read_parquet('data/data.parquet')"
   ]
  },
  {
   "cell_type": "code",
   "execution_count": null,
   "metadata": {},
   "outputs": [],
   "source": [
    "from log.codes_9999 import main\n",
    "\n",
    "df_output = main(df_input)"
   ]
  },
  {
   "cell_type": "code",
   "execution_count": null,
   "metadata": {},
   "outputs": [],
   "source": [
    "period = 5\n",
    "split_x = '2020-01-01'\n",
    "\n",
    "x = 'GP_0000'  # 考察因子\n",
    "y1 = 'RETURN_OO_1'  # 计算净值用的1日收益率"
   ]
  },
  {
   "cell_type": "code",
   "execution_count": null,
   "metadata": {},
   "outputs": [],
   "source": [
    "y = 'RETURN_OO_5'  # 计算因子IC用的5日收益率\n",
    "create_2x2_sheet(df_output, x, y, y1, period=period, split_x=split_x)"
   ]
  },
  {
   "cell_type": "code",
   "execution_count": null,
   "metadata": {},
   "outputs": [],
   "source": [
    "create_2x3_sheet(df_output, x, y, y1, period=period, split_x=split_x)"
   ]
  }
 ],
 "metadata": {
  "language_info": {
   "codemirror_mode": {
    "name": "ipython",
    "version": 3
   },
   "file_extension": ".py",
   "mimetype": "text/x-python",
   "name": "python",
   "nbconvert_exporter": "python",
   "pygments_lexer": "ipython3",
   "version": 3
  }
 },
 "nbformat": 4,
 "nbformat_minor": 2
}
